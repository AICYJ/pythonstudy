{
 "cells": [
  {
   "cell_type": "code",
   "execution_count": 1,
   "metadata": {},
   "outputs": [
    {
     "name": "stdout",
     "output_type": "stream",
     "text": [
      "hi 'Mr_Choo'\n",
      "hi \"Mr_Choo\"\n",
      "*\n",
      "**\n",
      "***\n",
      "name\tPhoneNumber\n",
      "Mr_Choo\t1234-1234-1234\n",
      "james\t1222-1234-1234\n"
     ]
    }
   ],
   "source": [
    "print('hi \\'Mr_Choo\\'')\n",
    "print('hi \\\"Mr_Choo\\\"')\n",
    "print('*\\n**\\n***')\n",
    "print('name\\tPhoneNumber')\n",
    "print('Mr_Choo\\t1234-1234-1234')\n",
    "print('james\\t1222-1234-1234')"
   ]
  }
 ],
 "metadata": {
  "interpreter": {
   "hash": "e644ee4731b1be66e5468d5c4ff174d9168d4cf854d114026013041f1ef28ddc"
  },
  "kernelspec": {
   "display_name": "Python 3.7.3 64-bit ('base': conda)",
   "language": "python",
   "name": "python3"
  },
  "language_info": {
   "codemirror_mode": {
    "name": "ipython",
    "version": 3
   },
   "file_extension": ".py",
   "mimetype": "text/x-python",
   "name": "python",
   "nbconvert_exporter": "python",
   "pygments_lexer": "ipython3",
   "version": "3.7.3"
  },
  "orig_nbformat": 4
 },
 "nbformat": 4,
 "nbformat_minor": 2
}
