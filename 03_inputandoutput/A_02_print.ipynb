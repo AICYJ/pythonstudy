{
 "cells": [
  {
   "cell_type": "code",
   "execution_count": 3,
   "metadata": {},
   "outputs": [
    {
     "name": "stdout",
     "output_type": "stream",
     "text": [
      "0 1 2 3 4 5 6 7 8 9 "
     ]
    }
   ],
   "source": [
    "import time \n",
    "\n",
    "for i in range(10): \n",
    "\tprint(i,end=' ', flush = True) \n",
    "\ttime.sleep(1) "
   ]
  },
  {
   "cell_type": "code",
   "execution_count": 5,
   "metadata": {},
   "outputs": [
    {
     "name": "stdout",
     "output_type": "stream",
     "text": [
      "0 1 2 3 4 5 6 7 8 9 "
     ]
    }
   ],
   "source": [
    "import time \n",
    "\n",
    "for i in range(10): \n",
    "\tprint(i,end=' ' ) \n",
    "\ttime.sleep(1) "
   ]
  },
  {
   "cell_type": "code",
   "execution_count": 12,
   "metadata": {},
   "outputs": [
    {
     "name": "stdout",
     "output_type": "stream",
     "text": [
      "python,java,c\n"
     ]
    }
   ],
   "source": [
    "print('python,java,c',sep=',')"
   ]
  },
  {
   "cell_type": "code",
   "execution_count": 15,
   "metadata": {},
   "outputs": [
    {
     "name": "stdout",
     "output_type": "stream",
     "text": [
      "python-java-c\n"
     ]
    }
   ],
   "source": [
    "print('python','java','c',sep='-')"
   ]
  }
 ],
 "metadata": {
  "interpreter": {
   "hash": "98b9fe400f80650b78053dee827188512a14ab2ffd9894c3cbd96813e9e5f4a3"
  },
  "kernelspec": {
   "display_name": "Python 3.6.9 64-bit ('tensorflow3': conda)",
   "language": "python",
   "name": "python3"
  },
  "language_info": {
   "codemirror_mode": {
    "name": "ipython",
    "version": 3
   },
   "file_extension": ".py",
   "mimetype": "text/x-python",
   "name": "python",
   "nbconvert_exporter": "python",
   "pygments_lexer": "ipython3",
   "version": "3.6.9"
  },
  "orig_nbformat": 4
 },
 "nbformat": 4,
 "nbformat_minor": 2
}
