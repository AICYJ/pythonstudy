{
 "cells": [
  {
   "cell_type": "code",
   "execution_count": 1,
   "metadata": {},
   "outputs": [
    {
     "name": "stdout",
     "output_type": "stream",
     "text": [
      "20\n",
      "24\n",
      "14\n",
      "3.140000\n",
      "mrchoocai\n",
      "mrchoocai 10\n"
     ]
    }
   ],
   "source": [
    "print('%d' % 20)\n",
    "print('%o' % 20)\n",
    "print('%x' % 20)\n",
    "print('%f' % 3.14)\n",
    "print('%s' % 'mrchoocai')\n",
    "print('%s %d' % ('mrchoocai',10))"
   ]
  },
  {
   "cell_type": "code",
   "execution_count": 2,
   "metadata": {},
   "outputs": [
    {
     "name": "stdout",
     "output_type": "stream",
     "text": [
      "3.170\n"
     ]
    }
   ],
   "source": [
    "print('%5.3f' % 3.17)\n"
   ]
  }
 ],
 "metadata": {
  "interpreter": {
   "hash": "453040a84f6d3c72fed4292c72f866e80529b1e08224c38f751f142360557641"
  },
  "kernelspec": {
   "display_name": "Python 3.8.0 64-bit ('tensorflow2.0': conda)",
   "language": "python",
   "name": "python3"
  },
  "language_info": {
   "codemirror_mode": {
    "name": "ipython",
    "version": 3
   },
   "file_extension": ".py",
   "mimetype": "text/x-python",
   "name": "python",
   "nbconvert_exporter": "python",
   "pygments_lexer": "ipython3",
   "version": "3.6.9"
  },
  "orig_nbformat": 4
 },
 "nbformat": 4,
 "nbformat_minor": 2
}
