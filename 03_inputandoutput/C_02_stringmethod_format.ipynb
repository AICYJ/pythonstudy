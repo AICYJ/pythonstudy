{
 "cells": [
  {
   "cell_type": "code",
   "execution_count": 5,
   "metadata": {},
   "outputs": [
    {
     "name": "stdout",
     "output_type": "stream",
     "text": [
      "My name is Mr_ChooC_AI\n",
      "My name is Mr_ChooC_AI. i'm 20 years olds.\n",
      "My name is Mr_ChooC_AI. i'm 20 years olds.\n",
      "My name is Mr_ChooC_AI. i'm 22 years olds.\n"
     ]
    }
   ],
   "source": [
    "print('My name is {}'.format('Mr_ChooC_AI'))\n",
    "#index control for matching input value\n",
    "print('My name is {0}. i\\'m {1} years olds.'.format('Mr_ChooC_AI',20))\n",
    "print('My name is {1}. i\\'m {0} years olds.'.format(20,'Mr_ChooC_AI'))\n",
    "#variable control for matching input value\n",
    "print('My name is {name}. i\\'m {age} years olds.'.format(age=22,name='Mr_ChooC_AI'))"
   ]
  },
  {
   "cell_type": "code",
   "execution_count": null,
   "metadata": {},
   "outputs": [],
   "source": []
  }
 ],
 "metadata": {
  "interpreter": {
   "hash": "98b9fe400f80650b78053dee827188512a14ab2ffd9894c3cbd96813e9e5f4a3"
  },
  "kernelspec": {
   "display_name": "Python 3.6.9 64-bit ('tensorflow3': conda)",
   "language": "python",
   "name": "python3"
  },
  "language_info": {
   "codemirror_mode": {
    "name": "ipython",
    "version": 3
   },
   "file_extension": ".py",
   "mimetype": "text/x-python",
   "name": "python",
   "nbconvert_exporter": "python",
   "pygments_lexer": "ipython3",
   "version": "3.6.9"
  },
  "orig_nbformat": 4
 },
 "nbformat": 4,
 "nbformat_minor": 2
}
