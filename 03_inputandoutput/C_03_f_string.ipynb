{
 "cells": [
  {
   "cell_type": "code",
   "execution_count": 1,
   "metadata": {},
   "outputs": [
    {
     "name": "stdout",
     "output_type": "stream",
     "text": [
      "My name is Mr_choo. i am 23 old, and my hobby is game\n"
     ]
    }
   ],
   "source": [
    "age=20\n",
    "name='Mr_choo'\n",
    "hobby='game'\n",
    "print(f'My name is {name}. i am {age+3} old, and my hobby is {hobby}')"
   ]
  }
 ],
 "metadata": {
  "interpreter": {
   "hash": "98b9fe400f80650b78053dee827188512a14ab2ffd9894c3cbd96813e9e5f4a3"
  },
  "kernelspec": {
   "display_name": "Python 3.6.9 64-bit ('tensorflow3': conda)",
   "language": "python",
   "name": "python3"
  },
  "language_info": {
   "codemirror_mode": {
    "name": "ipython",
    "version": 3
   },
   "file_extension": ".py",
   "mimetype": "text/x-python",
   "name": "python",
   "nbconvert_exporter": "python",
   "pygments_lexer": "ipython3",
   "version": "3.6.9"
  },
  "orig_nbformat": 4
 },
 "nbformat": 4,
 "nbformat_minor": 2
}
