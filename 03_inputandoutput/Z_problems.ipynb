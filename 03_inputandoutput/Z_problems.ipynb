{
 "cells": [
  {
   "cell_type": "code",
   "execution_count": null,
   "metadata": {},
   "outputs": [],
   "source": [
    "#Take two numbers from the user and implement the sum.\n",
    "x= float(input('first num: '))\n",
    "y= float(input('second num: '))\n",
    "print('The sum of {} and {} is {}.'.format(x,y,x+y))"
   ]
  },
  {
   "cell_type": "code",
   "execution_count": null,
   "metadata": {},
   "outputs": [],
   "source": [
    "#Please print out how many days there are from January to December.\n",
    "#Enter the month between January and December as a number.\n",
    "month=int(input('Enter the month between January and December as a number'))\n",
    "days=[31,28,31,30,31,30,31,31,30,31,30,31]\n",
    "print('{} months is until the {}th.'.format(month,days[month-1]))"
   ]
  },
  {
   "cell_type": "code",
   "execution_count": null,
   "metadata": {},
   "outputs": [],
   "source": [
    "#English encyclopedia.\n",
    "dictionary={'flower':'beautiful','fly':'high','apple':'sweet'}\n",
    "x=input('Enter the word')\n",
    "print('{}: {}'.format(x,dictionary[x]))"
   ]
  },
  {
   "cell_type": "code",
   "execution_count": 2,
   "metadata": {},
   "outputs": [
    {
     "name": "stdout",
     "output_type": "stream",
     "text": [
      "The areas of travel hope surveyed are {'la', 'ny'}\n"
     ]
    }
   ],
   "source": [
    "#Travel destination survey.\n",
    "x=input('Write down where you want to travel: ')\n",
    "x2=input('Write down where you want to travel: ')\n",
    "x3=input('Write down where you want to travel: ')\n",
    "s=set()\n",
    "s.add(x)\n",
    "s.add(x2)\n",
    "s.add(x3)\n",
    "print('The areas of travel hope surveyed are {}'.format(s))"
   ]
  }
 ],
 "metadata": {
  "interpreter": {
   "hash": "e644ee4731b1be66e5468d5c4ff174d9168d4cf854d114026013041f1ef28ddc"
  },
  "kernelspec": {
   "display_name": "Python 3.7.3 64-bit ('base': conda)",
   "language": "python",
   "name": "python3"
  },
  "language_info": {
   "codemirror_mode": {
    "name": "ipython",
    "version": 3
   },
   "file_extension": ".py",
   "mimetype": "text/x-python",
   "name": "python",
   "nbconvert_exporter": "python",
   "pygments_lexer": "ipython3",
   "version": "3.7.3"
  },
  "orig_nbformat": 4
 },
 "nbformat": 4,
 "nbformat_minor": 2
}
