{
 "cells": [
  {
   "cell_type": "code",
   "execution_count": 2,
   "metadata": {},
   "outputs": [
    {
     "name": "stdout",
     "output_type": "stream",
     "text": [
      "9+2=11\n",
      "9-2=7\n",
      "9*2=18\n",
      "9**2=81\n",
      "9/2=4.5\n",
      "9//2=4\n",
      "9%2=1\n"
     ]
    }
   ],
   "source": [
    "a= 9\n",
    "b= 2\n",
    "print('{}+{}={}'.format(a,b,a+b))\n",
    "print('{}-{}={}'.format(a,b,a-b))\n",
    "print('{}*{}={}'.format(a,b,a*b))\n",
    "print('{}**{}={}'.format(a,b,a**b))\n",
    "print('{}/{}={}'.format(a,b,a/b))\n",
    "print('{}//{}={}'.format(a,b,a//b))\n",
    "print('{}%{}={}'.format(a,b,a%b))"
   ]
  }
 ],
 "metadata": {
  "interpreter": {
   "hash": "453040a84f6d3c72fed4292c72f866e80529b1e08224c38f751f142360557641"
  },
  "kernelspec": {
   "display_name": "Python 3.8.0 64-bit ('tensorflow2.0': conda)",
   "language": "python",
   "name": "python3"
  },
  "language_info": {
   "codemirror_mode": {
    "name": "ipython",
    "version": 3
   },
   "file_extension": ".py",
   "mimetype": "text/x-python",
   "name": "python",
   "nbconvert_exporter": "python",
   "pygments_lexer": "ipython3",
   "version": "3.8.0"
  },
  "orig_nbformat": 4
 },
 "nbformat": 4,
 "nbformat_minor": 2
}
