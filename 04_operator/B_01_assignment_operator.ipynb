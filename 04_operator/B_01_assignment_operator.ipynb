{
 "cells": [
  {
   "cell_type": "code",
   "execution_count": 1,
   "metadata": {},
   "outputs": [
    {
     "name": "stdout",
     "output_type": "stream",
     "text": [
      "a = 10, b = 20\n",
      "a = 20, b = 10\n",
      "a = 22, b = 100\n",
      "a = 484, b = 10\n"
     ]
    }
   ],
   "source": [
    "a,b=10,20\n",
    "print('a = %d, b = %d' %(a,b))\n",
    "a,b=b,a\n",
    "print('a = %d, b = %d' %(a,b))\n",
    "a+=2\n",
    "b*=10\n",
    "print('a = %d, b = %d' %(a,b))\n",
    "a**=2\n",
    "b/=10\n",
    "print('a = %d, b = %d' %(a,b))"
   ]
  }
 ],
 "metadata": {
  "interpreter": {
   "hash": "e644ee4731b1be66e5468d5c4ff174d9168d4cf854d114026013041f1ef28ddc"
  },
  "kernelspec": {
   "display_name": "Python 3.7.3 64-bit ('base': conda)",
   "language": "python",
   "name": "python3"
  },
  "language_info": {
   "codemirror_mode": {
    "name": "ipython",
    "version": 3
   },
   "file_extension": ".py",
   "mimetype": "text/x-python",
   "name": "python",
   "nbconvert_exporter": "python",
   "pygments_lexer": "ipython3",
   "version": "3.7.3"
  },
  "orig_nbformat": 4
 },
 "nbformat": 4,
 "nbformat_minor": 2
}
