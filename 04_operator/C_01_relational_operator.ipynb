{
 "cells": [
  {
   "cell_type": "code",
   "execution_count": 1,
   "metadata": {},
   "outputs": [
    {
     "name": "stdout",
     "output_type": "stream",
     "text": [
      "15 > 10: True\n",
      "15 < 10: False\n",
      "15 >= 10: True\n",
      "15 <= 10: False\n",
      "15 == 10: False\n",
      "15 != 10: True\n"
     ]
    }
   ],
   "source": [
    "a=15\n",
    "print('{} > 10: {}'.format(a,a>10))\n",
    "print('{} < 10: {}'.format(a,a<10))\n",
    "print('{} >= 10: {}'.format(a,a>=10))\n",
    "print('{} <= 10: {}'.format(a,a<=10))\n",
    "print('{} == 10: {}'.format(a,a==10))\n",
    "print('{} != 10: {}'.format(a,a!=10))"
   ]
  }
 ],
 "metadata": {
  "interpreter": {
   "hash": "e644ee4731b1be66e5468d5c4ff174d9168d4cf854d114026013041f1ef28ddc"
  },
  "kernelspec": {
   "display_name": "Python 3.7.3 64-bit ('base': conda)",
   "language": "python",
   "name": "python3"
  },
  "language_info": {
   "codemirror_mode": {
    "name": "ipython",
    "version": 3
   },
   "file_extension": ".py",
   "mimetype": "text/x-python",
   "name": "python",
   "nbconvert_exporter": "python",
   "pygments_lexer": "ipython3",
   "version": "3.7.3"
  },
  "orig_nbformat": 4
 },
 "nbformat": 4,
 "nbformat_minor": 2
}
