{
 "cells": [
  {
   "cell_type": "code",
   "execution_count": 1,
   "metadata": {},
   "outputs": [
    {
     "name": "stdout",
     "output_type": "stream",
     "text": [
      "a & b : 2 0000 0010\n",
      "a | b : 78 0100 1110\n",
      "a ^ b : 76 0100 1100\n",
      "~a : -11 1111 0101\n",
      "a << 1 : 20 0001 0100\n",
      "a >> 1 : 5 0000 0101\n"
     ]
    }
   ],
   "source": [
    "a=10#0000 1010\n",
    "b=70#0100 0110\n",
    "print('a & b : {} 0000 0010'.format(a&b))\n",
    "print('a | b : {} 0100 1110'.format(a|b))\n",
    "print('a ^ b : {} 0100 1100'.format(a^b))\n",
    "print('~a : {} 1111 0101'.format(~a))\n",
    "print('a << 1 : {} 0001 0100'.format(a<<1))\n",
    "print('a >> 1 : {} 0000 0101'.format(a>>1))\n",
    "\n"
   ]
  }
 ],
 "metadata": {
  "interpreter": {
   "hash": "e644ee4731b1be66e5468d5c4ff174d9168d4cf854d114026013041f1ef28ddc"
  },
  "kernelspec": {
   "display_name": "Python 3.7.3 64-bit ('base': conda)",
   "language": "python",
   "name": "python3"
  },
  "language_info": {
   "codemirror_mode": {
    "name": "ipython",
    "version": 3
   },
   "file_extension": ".py",
   "mimetype": "text/x-python",
   "name": "python",
   "nbconvert_exporter": "python",
   "pygments_lexer": "ipython3",
   "version": "3.7.3"
  },
  "orig_nbformat": 4
 },
 "nbformat": 4,
 "nbformat_minor": 2
}
