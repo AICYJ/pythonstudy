{
 "cells": [
  {
   "cell_type": "code",
   "execution_count": 54,
   "metadata": {},
   "outputs": [
    {
     "name": "stdout",
     "output_type": "stream",
     "text": [
      "포켓몬 진화 프로그램 짝짝짝\n",
      "리자 리자 리자드!!!\n",
      "헬파이어 공격!!!!!\n",
      "포켓몬 키우기 끝~~~~~~~~~~~\n"
     ]
    }
   ],
   "source": [
    "import random\n",
    "\n",
    "print('☆★☆★Pokemon Random Evolution Program! WoW ~☆★☆★')\n",
    "mypokemon=int(input('Please choose the monster. (1: Pikachu 2: Squirtle 3: Charmander)'))\n",
    "revolution_random=random.randint(1,5)\n",
    "\n",
    "if revolution_random==1:\n",
    "    revolution=True\n",
    "else:\n",
    "    revolution=False\n",
    "\n",
    "if mypokemon==1:\n",
    "    if revolution:\n",
    "        print('Congratulations!! You succeeded in evolving Raichu.')\n",
    "        print('Rai Rai Raichu!\"')\n",
    "        print('Raichu 10 million bolt Thunder.~~~!!!@#!@#')\n",
    "    else:\n",
    "        print('Pika Pika Pikachu!!')\n",
    "        print('A million volts!@#!@#!@#')\n",
    "elif mypokemon==2:\n",
    "    if revolution:\n",
    "        print('Congratulations. You succeeded in evolving Wartortle@#$@#$!!')\n",
    "        print('Wartor Wartor Wartortle!')\n",
    "        print('Wartortle a spray of water spray.!!!~~~!!!@#!@#')\n",
    "    else:\n",
    "        print('Squir Squir!!')\n",
    "        print('Water shot~~!@#!@#!@#')\n",
    "elif mypokemon==3:\n",
    "    if revolution:\n",
    "        print('Congratulations. You succeeded in evolving Charmeleon !$@#$@#')\n",
    "        print('leon leon Charmeleon!')\n",
    "        print('Charmeleon  Hellfire!@#!@#~~~!!!@#!@#')\n",
    "    else:\n",
    "        print('Charman Charman !!')\n",
    "        print('fire ball~@$~!@#!@#!@#')\n",
    "else:\n",
    "    print('Please type in 1, 2, 3.')\n",
    "\n",
    "print('end game~~~~~~~~~~~')"
   ]
  }
 ],
 "metadata": {
  "interpreter": {
   "hash": "aecd030d4c8316a52bf122072e28f84bcc79844c2684e041fef2e3f1d9f59078"
  },
  "kernelspec": {
   "display_name": "Python 3.10.0 64-bit",
   "language": "python",
   "name": "python3"
  },
  "language_info": {
   "codemirror_mode": {
    "name": "ipython",
    "version": 3
   },
   "file_extension": ".py",
   "mimetype": "text/x-python",
   "name": "python",
   "nbconvert_exporter": "python",
   "pygments_lexer": "ipython3",
   "version": "3.10.0"
  },
  "orig_nbformat": 4
 },
 "nbformat": 4,
 "nbformat_minor": 2
}
