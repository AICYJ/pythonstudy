{
 "cells": [
  {
   "cell_type": "code",
   "execution_count": 1,
   "metadata": {},
   "outputs": [
    {
     "name": "stdout",
     "output_type": "stream",
     "text": [
      "a:1 is positive\n"
     ]
    }
   ],
   "source": [
    "a=1\n",
    "if a>0:\n",
    "    print('a:{} is positive'.format(a))"
   ]
  }
 ],
 "metadata": {
  "interpreter": {
   "hash": "453040a84f6d3c72fed4292c72f866e80529b1e08224c38f751f142360557641"
  },
  "kernelspec": {
   "display_name": "Python 3.8.0 64-bit ('tensorflow2.0': conda)",
   "language": "python",
   "name": "python3"
  },
  "language_info": {
   "codemirror_mode": {
    "name": "ipython",
    "version": 3
   },
   "file_extension": ".py",
   "mimetype": "text/x-python",
   "name": "python",
   "nbconvert_exporter": "python",
   "pygments_lexer": "ipython3",
   "version": "3.8.0"
  },
  "orig_nbformat": 4
 },
 "nbformat": 4,
 "nbformat_minor": 2
}
