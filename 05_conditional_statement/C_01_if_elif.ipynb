{
 "cells": [
  {
   "cell_type": "code",
   "execution_count": 1,
   "metadata": {},
   "outputs": [
    {
     "name": "stdout",
     "output_type": "stream",
     "text": [
      "your age is 5, you are preschool!\n"
     ]
    }
   ],
   "source": [
    "age=int(input('how old are you?'))\n",
    "if age>20:\n",
    "    print('your age is {}, you are adult!'.format(age))\n",
    "elif age>=16:\n",
    "    print('your age is {}, you are high school student!'.format(age))\n",
    "elif age>=13:\n",
    "    print('your age is {}, you are middle school student!'.format(age))\n",
    "elif age>=7:\n",
    "    print('your age is {}, you are elementary school student!'.format(age))\n",
    "else:\n",
    "    print('your age is {}, you are preschool!'.format(age))"
   ]
  }
 ],
 "metadata": {
  "interpreter": {
   "hash": "e644ee4731b1be66e5468d5c4ff174d9168d4cf854d114026013041f1ef28ddc"
  },
  "kernelspec": {
   "display_name": "Python 3.7.3 64-bit ('base': conda)",
   "language": "python",
   "name": "python3"
  },
  "language_info": {
   "codemirror_mode": {
    "name": "ipython",
    "version": 3
   },
   "file_extension": ".py",
   "mimetype": "text/x-python",
   "name": "python",
   "nbconvert_exporter": "python",
   "pygments_lexer": "ipython3",
   "version": "3.7.3"
  },
  "orig_nbformat": 4
 },
 "nbformat": 4,
 "nbformat_minor": 2
}
