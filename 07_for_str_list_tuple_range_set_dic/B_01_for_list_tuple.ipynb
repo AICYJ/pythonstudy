{
 "cells": [
  {
   "cell_type": "code",
   "execution_count": 2,
   "metadata": {},
   "outputs": [
    {
     "name": "stdout",
     "output_type": "stream",
     "text": [
      "just print list:  ['python', 'java', 'go']\n",
      "for print list: python\n",
      "for print list: java\n",
      "for print list: go\n"
     ]
    }
   ],
   "source": [
    "li=[\"python\",\"java\",\"go\"]\n",
    "print(\"just print list: \",li)\n",
    "for i in li:\n",
    "    print(\"for print list:\" ,i)"
   ]
  },
  {
   "cell_type": "code",
   "execution_count": 1,
   "metadata": {},
   "outputs": [
    {
     "name": "stdout",
     "output_type": "stream",
     "text": [
      "just print tuple:  ('python', 'java', 'go')\n",
      "for print tuple: python\n",
      "for print tuple: java\n",
      "for print tuple: go\n"
     ]
    }
   ],
   "source": [
    "li=(\"python\",\"java\",\"go\")\n",
    "print(\"just print tuple: \",li)\n",
    "for i in li:\n",
    "    print(\"for print tuple:\" ,i)"
   ]
  }
 ],
 "metadata": {
  "interpreter": {
   "hash": "e644ee4731b1be66e5468d5c4ff174d9168d4cf854d114026013041f1ef28ddc"
  },
  "kernelspec": {
   "display_name": "Python 3.7.3 64-bit ('base': conda)",
   "language": "python",
   "name": "python3"
  },
  "language_info": {
   "codemirror_mode": {
    "name": "ipython",
    "version": 3
   },
   "file_extension": ".py",
   "mimetype": "text/x-python",
   "name": "python",
   "nbconvert_exporter": "python",
   "pygments_lexer": "ipython3",
   "version": "3.7.3"
  },
  "orig_nbformat": 4
 },
 "nbformat": 4,
 "nbformat_minor": 2
}
