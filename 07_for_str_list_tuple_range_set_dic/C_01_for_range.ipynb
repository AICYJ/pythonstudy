{
 "cells": [
  {
   "cell_type": "code",
   "execution_count": 1,
   "metadata": {},
   "outputs": [
    {
     "name": "stdout",
     "output_type": "stream",
     "text": [
      "range(0, 5)\n",
      "range(1, 10)\n",
      "range(10, 1, -2)\n"
     ]
    }
   ],
   "source": [
    "print(range(5))\n",
    "print(range(1,10))\n",
    "print(range(10,1,-2))"
   ]
  },
  {
   "cell_type": "code",
   "execution_count": 3,
   "metadata": {},
   "outputs": [
    {
     "name": "stdout",
     "output_type": "stream",
     "text": [
      "[0, 1, 2, 3, 4]\n",
      "(1, 2, 3, 4, 5, 6, 7, 8, 9)\n",
      "[10, 8, 6, 4, 2]\n"
     ]
    }
   ],
   "source": [
    "print(list(range(5)))\n",
    "print(tuple(range(1,10)))\n",
    "print(list(range(10,1,-2)))"
   ]
  },
  {
   "cell_type": "code",
   "execution_count": 7,
   "metadata": {},
   "outputs": [
    {
     "name": "stdout",
     "output_type": "stream",
     "text": [
      "[0, 1, 2, 3, 4]\n",
      "0 for 1 for 2 for 3 for 4 for \n",
      "(1, 2, 3, 4, 5, 6, 7, 8, 9)\n",
      "1 for 2 for 3 for 4 for 5 for 6 for 7 for 8 for 9 for \n",
      "[10, 8, 6, 4, 2]\n",
      "10 for 8 for 6 for 4 for 2 for 0 for -2 for -4 for "
     ]
    }
   ],
   "source": [
    "print(list(range(5)))\n",
    "for i in range(5):\n",
    "    print(i,end=' for ')\n",
    "print()\n",
    "print(tuple(range(1,10)))\n",
    "for i in range(1,10):\n",
    "    print(i,end=' for ')\n",
    "print()\n",
    "print(list(range(10,1,-2)))\n",
    "for i in range(10,-5,-2):\n",
    "    print(i,end=' for ')"
   ]
  }
 ],
 "metadata": {
  "interpreter": {
   "hash": "e644ee4731b1be66e5468d5c4ff174d9168d4cf854d114026013041f1ef28ddc"
  },
  "kernelspec": {
   "display_name": "Python 3.7.3 64-bit ('base': conda)",
   "language": "python",
   "name": "python3"
  },
  "language_info": {
   "codemirror_mode": {
    "name": "ipython",
    "version": 3
   },
   "file_extension": ".py",
   "mimetype": "text/x-python",
   "name": "python",
   "nbconvert_exporter": "python",
   "pygments_lexer": "ipython3",
   "version": "3.7.3"
  },
  "orig_nbformat": 4
 },
 "nbformat": 4,
 "nbformat_minor": 2
}
