{
 "cells": [
  {
   "cell_type": "code",
   "execution_count": 3,
   "metadata": {},
   "outputs": [
    {
     "name": "stdout",
     "output_type": "stream",
     "text": [
      "without break\n",
      "0,1,2,3,4,\n",
      "with break\n",
      "0,1,2,"
     ]
    }
   ],
   "source": [
    "print('without break')\n",
    "for i in range(5):\n",
    "    print(i,end=\",\")\n",
    "print('\\nwith break')\n",
    "for i in range(5):\n",
    "    if i==3:\n",
    "        break\n",
    "    print(i,end=',')"
   ]
  },
  {
   "cell_type": "code",
   "execution_count": 1,
   "metadata": {},
   "outputs": [
    {
     "name": "stdout",
     "output_type": "stream",
     "text": [
      "without continue\n",
      "0,1,2,3,4,\n",
      "with continue\n",
      "0,1,2,4,"
     ]
    }
   ],
   "source": [
    "print('without continue')\n",
    "for i in range(5):\n",
    "    print(i,end=\",\")\n",
    "print('\\nwith continue')\n",
    "for i in range(5):\n",
    "    if i==3:\n",
    "        continue\n",
    "    print(i,end=',')"
   ]
  }
 ],
 "metadata": {
  "interpreter": {
   "hash": "e644ee4731b1be66e5468d5c4ff174d9168d4cf854d114026013041f1ef28ddc"
  },
  "kernelspec": {
   "display_name": "Python 3.7.3 64-bit ('base': conda)",
   "language": "python",
   "name": "python3"
  },
  "language_info": {
   "codemirror_mode": {
    "name": "ipython",
    "version": 3
   },
   "file_extension": ".py",
   "mimetype": "text/x-python",
   "name": "python",
   "nbconvert_exporter": "python",
   "pygments_lexer": "ipython3",
   "version": "3.7.3"
  },
  "orig_nbformat": 4
 },
 "nbformat": 4,
 "nbformat_minor": 2
}
