{
 "cells": [
  {
   "cell_type": "code",
   "execution_count": 9,
   "metadata": {},
   "outputs": [
    {
     "name": "stdout",
     "output_type": "stream",
     "text": [
      "transfer from code to character\n",
      "0\n",
      "1\n",
      "A\n",
      "B\n",
      "a\n",
      "b\n",
      "transfer from character to unicode\n",
      "65\n",
      "54620\n"
     ]
    }
   ],
   "source": [
    "#chr built in function\n",
    "print('transfer from code to character')\n",
    "print(chr(48))\n",
    "print(chr(49))\n",
    "print(chr(65))\n",
    "print(chr(66))\n",
    "print(chr(97))\n",
    "print(chr(98))\n",
    "print('transfer from character to unicode')\n",
    "print(ord('A'))\n",
    "print(ord('한'))\n"
   ]
  },
  {
   "cell_type": "code",
   "execution_count": 1,
   "metadata": {},
   "outputs": [
    {
     "name": "stdout",
     "output_type": "stream",
     "text": [
      "300\n",
      "25\n",
      "8\n"
     ]
    }
   ],
   "source": [
    "#eval built in function\n",
    "print(eval('100+200'))\n",
    "a=5\n",
    "print(eval('a*5'))\n",
    "print(eval('max(3,5,8)'))\n"
   ]
  },
  {
   "cell_type": "code",
   "execution_count": 2,
   "metadata": {},
   "outputs": [
    {
     "name": "stdout",
     "output_type": "stream",
     "text": [
      "314\n",
      "3.14\n",
      "True\n"
     ]
    }
   ],
   "source": [
    "#str built in function\n",
    "print(str(314))\n",
    "print(str(3.14))\n",
    "print(str(True))"
   ]
  }
 ],
 "metadata": {
  "interpreter": {
   "hash": "e644ee4731b1be66e5468d5c4ff174d9168d4cf854d114026013041f1ef28ddc"
  },
  "kernelspec": {
   "display_name": "Python 3.7.3 64-bit ('base': conda)",
   "language": "python",
   "name": "python3"
  },
  "language_info": {
   "codemirror_mode": {
    "name": "ipython",
    "version": 3
   },
   "file_extension": ".py",
   "mimetype": "text/x-python",
   "name": "python",
   "nbconvert_exporter": "python",
   "pygments_lexer": "ipython3",
   "version": "3.7.3"
  },
  "orig_nbformat": 4
 },
 "nbformat": 4,
 "nbformat_minor": 2
}
