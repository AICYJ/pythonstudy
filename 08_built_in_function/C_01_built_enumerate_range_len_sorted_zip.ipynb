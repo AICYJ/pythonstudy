{
 "cells": [
  {
   "cell_type": "code",
   "execution_count": 2,
   "metadata": {},
   "outputs": [
    {
     "name": "stdout",
     "output_type": "stream",
     "text": [
      "normal for iteration\n",
      "A\n",
      "B\n",
      "C\n",
      "for with enumerate\n",
      "(0, 'A')\n",
      "(1, 'B')\n",
      "(2, 'C')\n"
     ]
    }
   ],
   "source": [
    "#built in enumerate\n",
    "print('normal for iteration')\n",
    "for item in ['A','B','C']:\n",
    "    print(item)\n",
    "print('for with enumerate')\n",
    "for item in enumerate(['A','B','C']):\n",
    "    print(item)"
   ]
  },
  {
   "cell_type": "code",
   "execution_count": 5,
   "metadata": {},
   "outputs": [
    {
     "name": "stdout",
     "output_type": "stream",
     "text": [
      "for with enumerate and index\n",
      "idx: 0 item: A\n",
      "idx: 1 item: B\n",
      "idx: 2 item: C\n"
     ]
    }
   ],
   "source": [
    "#built in enumerate\n",
    "print('for with enumerate and index')\n",
    "for idx,item in enumerate(['A','B','C']):\n",
    "    print('idx: '+str(idx)+' item: '+ str(item))"
   ]
  },
  {
   "cell_type": "code",
   "execution_count": 7,
   "metadata": {},
   "outputs": [
    {
     "name": "stdout",
     "output_type": "stream",
     "text": [
      "[0, 1, 2, 3, 4]\n",
      "[1, 2, 3, 4, 5, 6, 7]\n",
      "[5, 3, 1, -1, -3]\n",
      "[5, 9, 13, 17, 21]\n"
     ]
    }
   ],
   "source": [
    "#built in range\n",
    "print(list(range(5)))\n",
    "print(list(range(1,8)))\n",
    "print(list(range(5,-5,-2)))\n",
    "print(list(range(5,25,4)))"
   ]
  },
  {
   "cell_type": "code",
   "execution_count": 11,
   "metadata": {},
   "outputs": [
    {
     "name": "stdout",
     "output_type": "stream",
     "text": [
      "6\n",
      "2\n",
      "10\n",
      "9\n"
     ]
    }
   ],
   "source": [
    "#built in len\n",
    "li=[3,4,5,6,7,7]\n",
    "print(len(li))\n",
    "di={'a':'apple','b':'banana'}\n",
    "print(len(di))\n",
    "print(len(range(10)))\n",
    "print(len(range(1,10)))"
   ]
  },
  {
   "cell_type": "code",
   "execution_count": 12,
   "metadata": {},
   "outputs": [
    {
     "name": "stdout",
     "output_type": "stream",
     "text": [
      "[1, 4, 5, 7, 10, 26]\n",
      "[1, 4, 5, 7, 10, 26]\n",
      "[26, 10, 7, 5, 4, 1]\n"
     ]
    }
   ],
   "source": [
    "#built in sorted()\n",
    "li=[5,26,4,7,10,1]\n",
    "print(sorted(li))\n",
    "print(sorted(li,reverse=False))\n",
    "print(sorted(li,reverse=True))"
   ]
  },
  {
   "cell_type": "code",
   "execution_count": 13,
   "metadata": {},
   "outputs": [
    {
     "name": "stdout",
     "output_type": "stream",
     "text": [
      "('james', 100)\n",
      "('tom', 90)\n",
      "('Choo', 80)\n"
     ]
    }
   ],
   "source": [
    "names=['james','tom','Choo']\n",
    "socre=[100,90,80]\n",
    "for zipdate in zip(names,socre):\n",
    "    print(zipdate)"
   ]
  },
  {
   "cell_type": "code",
   "execution_count": 14,
   "metadata": {},
   "outputs": [
    {
     "name": "stdout",
     "output_type": "stream",
     "text": [
      "('james', 100)\n",
      "('tom', 90)\n",
      "('Choo', 80)\n"
     ]
    }
   ],
   "source": [
    "names=['james','tom','Choo']\n",
    "socre=[100,90,80,70,60]\n",
    "for zipdate in zip(names,socre):\n",
    "    print(zipdate)"
   ]
  },
  {
   "cell_type": "code",
   "execution_count": 15,
   "metadata": {},
   "outputs": [
    {
     "name": "stdout",
     "output_type": "stream",
     "text": [
      "name is james, score is 100\n",
      "name is tom, score is 90\n",
      "name is Choo, score is 80\n"
     ]
    }
   ],
   "source": [
    "names=['james','tom','Choo']\n",
    "socre=[100,90,80]\n",
    "for name,socre in zip(names,socre):\n",
    "    print('name is {}, score is {}'.format(name,socre))"
   ]
  }
 ],
 "metadata": {
  "interpreter": {
   "hash": "e644ee4731b1be66e5468d5c4ff174d9168d4cf854d114026013041f1ef28ddc"
  },
  "kernelspec": {
   "display_name": "Python 3.7.3 64-bit ('base': conda)",
   "language": "python",
   "name": "python3"
  },
  "language_info": {
   "codemirror_mode": {
    "name": "ipython",
    "version": 3
   },
   "file_extension": ".py",
   "mimetype": "text/x-python",
   "name": "python",
   "nbconvert_exporter": "python",
   "pygments_lexer": "ipython3",
   "version": "3.7.3"
  },
  "orig_nbformat": 4
 },
 "nbformat": 4,
 "nbformat_minor": 2
}
