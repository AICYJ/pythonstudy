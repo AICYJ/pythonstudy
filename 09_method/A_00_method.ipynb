{
 "cells": [
  {
   "cell_type": "code",
   "execution_count": 2,
   "metadata": {},
   "outputs": [
    {
     "name": "stdout",
     "output_type": "stream",
     "text": [
      "['MrChooCAI', 'AI']\n",
      "built-in function len: 2\n"
     ]
    }
   ],
   "source": [
    "#method\n",
    "#I created a list object called my_list. \n",
    "my_list=[]\n",
    "my_list.append('MrChooCAI')\n",
    "my_list.append('AI')\n",
    "print(my_list)\n",
    "#built-in fuction \n",
    "#It is a function that can be used directly without an object.\n",
    "print('built-in function len: {}'.format(len(my_list)))"
   ]
  }
 ],
 "metadata": {
  "interpreter": {
   "hash": "e644ee4731b1be66e5468d5c4ff174d9168d4cf854d114026013041f1ef28ddc"
  },
  "kernelspec": {
   "display_name": "Python 3.7.3 64-bit ('base': conda)",
   "language": "python",
   "name": "python3"
  },
  "language_info": {
   "codemirror_mode": {
    "name": "ipython",
    "version": 3
   },
   "file_extension": ".py",
   "mimetype": "text/x-python",
   "name": "python",
   "nbconvert_exporter": "python",
   "pygments_lexer": "ipython3",
   "version": "3.7.3"
  },
  "orig_nbformat": 4
 },
 "nbformat": 4,
 "nbformat_minor": 2
}
