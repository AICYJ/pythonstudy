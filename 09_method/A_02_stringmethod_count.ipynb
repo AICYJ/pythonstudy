{
 "cells": [
  {
   "cell_type": "code",
   "execution_count": 8,
   "metadata": {},
   "outputs": [
    {
     "name": "stdout",
     "output_type": "stream",
     "text": [
      "4\n",
      "t way to succeed is to do your best. best of best\n",
      "3\n",
      " best\n",
      "1\n"
     ]
    }
   ],
   "source": [
    "s='The best way to succeed is to do your best. best of best'\n",
    "print(s.count('best'))\n",
    "print(s[7:])\n",
    "print(s.count('best',7))\n",
    "print(s[-5:])\n",
    "print(s.count('best',-5))\n"
   ]
  }
 ],
 "metadata": {
  "interpreter": {
   "hash": "e644ee4731b1be66e5468d5c4ff174d9168d4cf854d114026013041f1ef28ddc"
  },
  "kernelspec": {
   "display_name": "Python 3.7.3 64-bit ('base': conda)",
   "language": "python",
   "name": "python3"
  },
  "language_info": {
   "codemirror_mode": {
    "name": "ipython",
    "version": 3
   },
   "file_extension": ".py",
   "mimetype": "text/x-python",
   "name": "python",
   "nbconvert_exporter": "python",
   "pygments_lexer": "ipython3",
   "version": "3.7.3"
  },
  "orig_nbformat": 4
 },
 "nbformat": 4,
 "nbformat_minor": 2
}
