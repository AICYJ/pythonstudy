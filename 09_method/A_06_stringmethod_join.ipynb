{
 "cells": [
  {
   "cell_type": "code",
   "execution_count": 5,
   "metadata": {},
   "outputs": [
    {
     "name": "stdout",
     "output_type": "stream",
     "text": [
      "M-r-C-h-o-o-C-A-I\n",
      "1+2+3+4+5\n",
      "a-b\n"
     ]
    }
   ],
   "source": [
    "#string join\n",
    "print('-'.join('MrChooCAI'))\n",
    "#list join\n",
    "print('+'.join(['1','2','3','4','5']))\n",
    "#dictionary join\n",
    "a={'a':'apple','b':'banana'}\n",
    "print('-'.join(a))\n"
   ]
  }
 ],
 "metadata": {
  "interpreter": {
   "hash": "e644ee4731b1be66e5468d5c4ff174d9168d4cf854d114026013041f1ef28ddc"
  },
  "kernelspec": {
   "display_name": "Python 3.7.3 64-bit ('base': conda)",
   "language": "python",
   "name": "python3"
  },
  "language_info": {
   "codemirror_mode": {
    "name": "ipython",
    "version": 3
   },
   "file_extension": ".py",
   "mimetype": "text/x-python",
   "name": "python",
   "nbconvert_exporter": "python",
   "pygments_lexer": "ipython3",
   "version": "3.7.3"
  },
  "orig_nbformat": 4
 },
 "nbformat": 4,
 "nbformat_minor": 2
}
