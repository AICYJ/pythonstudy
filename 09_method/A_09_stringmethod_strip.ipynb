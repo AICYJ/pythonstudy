{
 "cells": [
  {
   "cell_type": "code",
   "execution_count": 15,
   "metadata": {},
   "outputs": [
    {
     "name": "stdout",
     "output_type": "stream",
     "text": [
      "    MrChooCAI    \n",
      "17\n",
      "MrChooCAI    \n",
      "13\n",
      "    MrChooCAI\n",
      "13\n",
      "MrChooCAI\n",
      "9\n"
     ]
    },
    {
     "data": {
      "text/plain": [
       "'rChooCAI'"
      ]
     },
     "execution_count": 15,
     "metadata": {},
     "output_type": "execute_result"
    }
   ],
   "source": [
    "s='    MrChooCAI    '\n",
    "print(s)\n",
    "print(len(s))\n",
    "print(s.lstrip())\n",
    "print(len(s.lstrip()))\n",
    "print(s.rstrip())\n",
    "print(len(s.rstrip()))\n",
    "print(s.strip())\n",
    "print(len(s.strip()))\n",
    "s.strip(' ').strip('M')"
   ]
  }
 ],
 "metadata": {
  "interpreter": {
   "hash": "e644ee4731b1be66e5468d5c4ff174d9168d4cf854d114026013041f1ef28ddc"
  },
  "kernelspec": {
   "display_name": "Python 3.7.3 64-bit ('base': conda)",
   "language": "python",
   "name": "python3"
  },
  "language_info": {
   "codemirror_mode": {
    "name": "ipython",
    "version": 3
   },
   "file_extension": ".py",
   "mimetype": "text/x-python",
   "name": "python",
   "nbconvert_exporter": "python",
   "pygments_lexer": "ipython3",
   "version": "3.7.3"
  },
  "orig_nbformat": 4
 },
 "nbformat": 4,
 "nbformat_minor": 2
}
