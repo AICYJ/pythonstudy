{
 "cells": [
  {
   "cell_type": "code",
   "execution_count": 1,
   "metadata": {},
   "outputs": [
    {
     "name": "stdout",
     "output_type": "stream",
     "text": [
      "['MrChooCAI', 'java', 'python']\n"
     ]
    }
   ],
   "source": [
    "list1=['MrChooCAI','java']\n",
    "list1.append('python')\n",
    "print(list1)"
   ]
  },
  {
   "cell_type": "code",
   "execution_count": 2,
   "metadata": {},
   "outputs": [
    {
     "name": "stdout",
     "output_type": "stream",
     "text": [
      "['MrChooCAI', 'java', 'python', 'c#']\n"
     ]
    }
   ],
   "source": [
    "list1=['MrChooCAI','java']\n",
    "list2=['python','c#']\n",
    "list1.extend(list2)\n",
    "print(list1)"
   ]
  },
  {
   "cell_type": "code",
   "execution_count": 3,
   "metadata": {},
   "outputs": [
    {
     "name": "stdout",
     "output_type": "stream",
     "text": [
      "['MrChooCAI', 'python', 'java']\n"
     ]
    }
   ],
   "source": [
    "list1=['MrChooCAI','java']\n",
    "list1.insert(1,'python')\n",
    "print(list1)"
   ]
  },
  {
   "cell_type": "code",
   "execution_count": 5,
   "metadata": {},
   "outputs": [
    {
     "name": "stdout",
     "output_type": "stream",
     "text": [
      "[]\n"
     ]
    }
   ],
   "source": [
    "list1=['MrChooCAI','java']\n",
    "list1.clear()\n",
    "print(list1)"
   ]
  },
  {
   "cell_type": "code",
   "execution_count": 6,
   "metadata": {},
   "outputs": [
    {
     "name": "stdout",
     "output_type": "stream",
     "text": [
      "['MrChooCAI']\n"
     ]
    }
   ],
   "source": [
    "list1=['MrChooCAI','java']\n",
    "list1.pop()\n",
    "print(list1)"
   ]
  },
  {
   "cell_type": "code",
   "execution_count": 7,
   "metadata": {},
   "outputs": [
    {
     "name": "stdout",
     "output_type": "stream",
     "text": [
      "['java']\n"
     ]
    }
   ],
   "source": [
    "list1=['MrChooCAI','java']\n",
    "list1.pop(0)\n",
    "print(list1)"
   ]
  },
  {
   "cell_type": "code",
   "execution_count": 8,
   "metadata": {},
   "outputs": [
    {
     "name": "stdout",
     "output_type": "stream",
     "text": [
      "['MrChooCAI', 'java', 'c#']\n"
     ]
    }
   ],
   "source": [
    "list1=['MrChooCAI', 'java', 'python', 'c#']\n",
    "list1.remove('python')\n",
    "print(list1)"
   ]
  }
 ],
 "metadata": {
  "interpreter": {
   "hash": "e644ee4731b1be66e5468d5c4ff174d9168d4cf854d114026013041f1ef28ddc"
  },
  "kernelspec": {
   "display_name": "Python 3.7.3 64-bit ('base': conda)",
   "language": "python",
   "name": "python3"
  },
  "language_info": {
   "codemirror_mode": {
    "name": "ipython",
    "version": 3
   },
   "file_extension": ".py",
   "mimetype": "text/x-python",
   "name": "python",
   "nbconvert_exporter": "python",
   "pygments_lexer": "ipython3",
   "version": "3.7.3"
  },
  "orig_nbformat": 4
 },
 "nbformat": 4,
 "nbformat_minor": 2
}
