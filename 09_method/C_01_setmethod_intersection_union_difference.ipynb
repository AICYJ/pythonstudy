{
 "cells": [
  {
   "cell_type": "code",
   "execution_count": 5,
   "metadata": {},
   "outputs": [
    {
     "name": "stdout",
     "output_type": "stream",
     "text": [
      "s1 & s2 sign : {'Python', 'Java'}\n",
      "s1.intersection(s2) method: {'Python', 'Java'}\n"
     ]
    }
   ],
   "source": [
    "#intersection &\n",
    "s1={'MrChooCAI','Python','Java'}\n",
    "s2={'Python','Java','AI'}\n",
    "print('s1 & s2 sign : {}'.format(s1&s2))\n",
    "print('s1.intersection(s2) method: {}'.format(s1.intersection(s2)))"
   ]
  },
  {
   "cell_type": "code",
   "execution_count": 6,
   "metadata": {},
   "outputs": [
    {
     "name": "stdout",
     "output_type": "stream",
     "text": [
      "s1 | s2 sign : {'MrChooCAI', 'Python', 'Java', 'AI'}\n",
      "s1.union(s2) method: {'MrChooCAI', 'Python', 'Java', 'AI'}\n"
     ]
    }
   ],
   "source": [
    "#union |\n",
    "s1={'MrChooCAI','Python','Java'}\n",
    "s2={'Python','Java','AI'}\n",
    "print('s1 | s2 sign : {}'.format(s1|s2))\n",
    "print('s1.union(s2) method: {}'.format(s1.union(s2)))"
   ]
  },
  {
   "cell_type": "code",
   "execution_count": 7,
   "metadata": {},
   "outputs": [
    {
     "name": "stdout",
     "output_type": "stream",
     "text": [
      "s1 - s2 sign : {'MrChooCAI'}\n",
      "s1.difference(s2) method: {'MrChooCAI'}\n"
     ]
    }
   ],
   "source": [
    "#difference -\n",
    "s1={'MrChooCAI','Python','Java'}\n",
    "s2={'Python','Java','AI'}\n",
    "print('s1 - s2 sign : {}'.format(s1-s2))\n",
    "print('s1.difference(s2) method: {}'.format(s1.difference(s2)))"
   ]
  }
 ],
 "metadata": {
  "interpreter": {
   "hash": "e644ee4731b1be66e5468d5c4ff174d9168d4cf854d114026013041f1ef28ddc"
  },
  "kernelspec": {
   "display_name": "Python 3.7.3 64-bit ('base': conda)",
   "language": "python",
   "name": "python3"
  },
  "language_info": {
   "codemirror_mode": {
    "name": "ipython",
    "version": 3
   },
   "file_extension": ".py",
   "mimetype": "text/x-python",
   "name": "python",
   "nbconvert_exporter": "python",
   "pygments_lexer": "ipython3",
   "version": "3.7.3"
  },
  "orig_nbformat": 4
 },
 "nbformat": 4,
 "nbformat_minor": 2
}
